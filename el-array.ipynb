{
  "nbformat": 4,
  "nbformat_minor": 0,
  "metadata": {
    "colab": {
      "name": "el-array.ipynb",
      "provenance": [],
      "collapsed_sections": []
    },
    "kernelspec": {
      "name": "python3",
      "display_name": "Python 3"
    },
    "language_info": {
      "name": "python"
    }
  },
  "cells": [
    {
      "cell_type": "code",
      "execution_count": 2,
      "metadata": {
        "id": "z_uTDUuGi6de"
      },
      "outputs": [],
      "source": [
        "# Importamos nuestra librería\n",
        "import numpy as np"
      ]
    },
    {
      "cell_type": "code",
      "source": [
        "# Creamos una lista de Python para ejemplificar\n",
        "lista = [1, 2, 3, 4, 5, 6, 7, 8, 9]\n",
        "lista"
      ],
      "metadata": {
        "colab": {
          "base_uri": "https://localhost:8080/"
        },
        "id": "HCRjzCYkjS_y",
        "outputId": "1a0de08a-f593-427d-eacd-74cea8e99d4c"
      },
      "execution_count": 3,
      "outputs": [
        {
          "output_type": "execute_result",
          "data": {
            "text/plain": [
              "[1, 2, 3, 4, 5, 6, 7, 8, 9]"
            ]
          },
          "metadata": {},
          "execution_count": 3
        }
      ]
    },
    {
      "cell_type": "code",
      "source": [
        "# Creamos un array de Numpy y comprobamos\n",
        "array = np.array(lista)\n",
        "type(array)"
      ],
      "metadata": {
        "colab": {
          "base_uri": "https://localhost:8080/"
        },
        "id": "yGLCVYexjbsx",
        "outputId": "875deb24-5748-4b05-f2bf-f3724b2c5bc7"
      },
      "execution_count": 6,
      "outputs": [
        {
          "output_type": "execute_result",
          "data": {
            "text/plain": [
              "numpy.ndarray"
            ]
          },
          "metadata": {},
          "execution_count": 6
        }
      ]
    },
    {
      "cell_type": "code",
      "source": [
        "# Creamos un array de dos dimenciones(matriz)\n",
        "matriz = [\n",
        "          [1, 2, 3],\n",
        "          [4, 5, 6],\n",
        "          [7, 8, 9]\n",
        "]\n",
        "matriz = np.array(matriz)\n",
        "matriz"
      ],
      "metadata": {
        "colab": {
          "base_uri": "https://localhost:8080/"
        },
        "id": "bTXeiumSuFJX",
        "outputId": "1cac1094-fbdf-45d1-82cd-479eb80407c7"
      },
      "execution_count": 8,
      "outputs": [
        {
          "output_type": "execute_result",
          "data": {
            "text/plain": [
              "array([[1, 2, 3],\n",
              "       [4, 5, 6],\n",
              "       [7, 8, 9]])"
            ]
          },
          "metadata": {},
          "execution_count": 8
        }
      ]
    },
    {
      "cell_type": "code",
      "source": [
        "# Indexado, obvio desde 0 hasta n\n",
        "array[3]\n",
        "array[4] + array[3]"
      ],
      "metadata": {
        "colab": {
          "base_uri": "https://localhost:8080/"
        },
        "id": "9gatsZfyu2c4",
        "outputId": "ed94544d-e976-4e51-b515-5ad9e252c193"
      },
      "execution_count": 13,
      "outputs": [
        {
          "output_type": "execute_result",
          "data": {
            "text/plain": [
              "9"
            ]
          },
          "metadata": {},
          "execution_count": 13
        }
      ]
    },
    {
      "cell_type": "code",
      "source": [
        "# Indexado de matrices\n",
        "# Nos trae la primer fila completa\n",
        "matriz[0]\n",
        "# Nos trae un elemento específico\n",
        "matriz[0,0]"
      ],
      "metadata": {
        "colab": {
          "base_uri": "https://localhost:8080/"
        },
        "id": "BP5rL7aZvIpy",
        "outputId": "b3bbcbf8-ec2c-4028-e1da-bad981422dd6"
      },
      "execution_count": 16,
      "outputs": [
        {
          "output_type": "execute_result",
          "data": {
            "text/plain": [
              "1"
            ]
          },
          "metadata": {},
          "execution_count": 16
        }
      ]
    },
    {
      "cell_type": "code",
      "source": [
        "# El slicing funciona normalmente como con una lista de Python\n",
        "array[0:4]\n",
        "# Recordar que el inicio se incluye y el final es excluido\n",
        "array[3:8]"
      ],
      "metadata": {
        "colab": {
          "base_uri": "https://localhost:8080/"
        },
        "id": "kr4IgWzbwAjt",
        "outputId": "8faeb655-2453-464c-f228-5d3c6d227431"
      },
      "execution_count": 19,
      "outputs": [
        {
          "output_type": "execute_result",
          "data": {
            "text/plain": [
              "array([4, 5, 6, 7, 8])"
            ]
          },
          "metadata": {},
          "execution_count": 19
        }
      ]
    },
    {
      "cell_type": "code",
      "source": [
        "# Slicing con matrices\n",
        "matriz[1:]\n",
        "# Slicing de filas y columnas\n",
        "matriz[1:,:2]"
      ],
      "metadata": {
        "colab": {
          "base_uri": "https://localhost:8080/"
        },
        "id": "6SmUJeQC0oDJ",
        "outputId": "16de0a4c-fb32-4008-a6a3-a2e6e1a80d69"
      },
      "execution_count": 23,
      "outputs": [
        {
          "output_type": "execute_result",
          "data": {
            "text/plain": [
              "array([[4, 5],\n",
              "       [7, 8]])"
            ]
          },
          "metadata": {},
          "execution_count": 23
        }
      ]
    },
    {
      "cell_type": "code",
      "source": [
        "# Matriz de 3 dimensiones\n",
        "matriz3d = [\n",
        "            [\n",
        "             [1, 2, 3, 4],\n",
        "             [5, 6, 7, 8],\n",
        "             [9, 10, 11, 12]\n",
        "            ],\n",
        "            [\n",
        "             [13, 14, 15, 16],\n",
        "             [17, 18, 19, 20],\n",
        "             [21, 22, 23, 24]\n",
        "            ],\n",
        "            [\n",
        "             [25, 26, 27, 28],\n",
        "             [29, 30, 31, 32],\n",
        "             [33, 34, 35, 36]\n",
        "            ]\n",
        "]\n",
        "matriz3d[1:3][0:3]"
      ],
      "metadata": {
        "colab": {
          "base_uri": "https://localhost:8080/"
        },
        "id": "D62CrH5E0vtz",
        "outputId": "ca351463-9b63-479c-df3d-b695d773b07f"
      },
      "execution_count": 65,
      "outputs": [
        {
          "output_type": "execute_result",
          "data": {
            "text/plain": [
              "[[[13, 14, 15, 16], [17, 18, 19, 20], [21, 22, 23, 24]],\n",
              " [[25, 26, 27, 28], [29, 30, 31, 32], [33, 34, 35, 36]]]"
            ]
          },
          "metadata": {},
          "execution_count": 65
        }
      ]
    }
  ]
}